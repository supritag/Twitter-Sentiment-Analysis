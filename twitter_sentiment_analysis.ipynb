{
  "nbformat": 4,
  "nbformat_minor": 0,
  "metadata": {
    "colab": {
      "name": "twitter_sentiment_analysis.ipynb",
      "provenance": [],
      "collapsed_sections": []
    },
    "kernelspec": {
      "name": "python3",
      "display_name": "Python 3"
    },
    "accelerator": "GPU"
  },
  "cells": [
    {
      "cell_type": "markdown",
      "metadata": {
        "id": "VNvKPmP3UMH0",
        "colab_type": "text"
      },
      "source": [
        "### INTRODUCTION: \n",
        "The dataset is from the recent [kaggle competition](https://www.kaggle.com/c/tweet-sentiment-extraction/overview) where the objective is to classify the given tweet as positive, negative or neutral from labelled dataset. The secondary objective is to also return the text and its neighbourhood in the text to depict the sentiment.\n",
        "We are focussing of the primary objective solely in this notebook and examining the effectiveness on using LSTM for text classification into the sentiments of the texts. \n",
        "We also attempt hyperparameter tuning to acheive satisfactory results on vectorized text using Word2vec method.\n"
      ]
    },
    {
      "cell_type": "markdown",
      "metadata": {
        "id": "D61O1QBAVu_s",
        "colab_type": "text"
      },
      "source": [
        "### SOLUTION"
      ]
    },
    {
      "cell_type": "markdown",
      "metadata": {
        "id": "7ErDsy6wV3rV",
        "colab_type": "text"
      },
      "source": [
        "#### Imports"
      ]
    },
    {
      "cell_type": "code",
      "metadata": {
        "id": "n78fHbOA848y",
        "colab_type": "code",
        "colab": {}
      },
      "source": [
        "#Data Processing\n",
        "import pandas as pd\n",
        "\n",
        "# Matplotlib\n",
        "import matplotlib.pyplot as plt\n",
        "%matplotlib inline\n",
        "\n",
        "# Scikit-learn\n",
        "from sklearn.model_selection import train_test_split\n",
        "from sklearn.preprocessing import LabelEncoder\n",
        "from sklearn.metrics import confusion_matrix, classification_report, accuracy_score\n",
        "from sklearn.manifold import TSNE\n",
        "from sklearn.feature_extraction.text import TfidfVectorizer\n",
        "\n",
        "# Keras\n",
        "from tensorflow.python.keras.preprocessing.text import Tokenizer\n",
        "from tensorflow.python.keras.preprocessing.sequence import pad_sequences\n",
        "from tensorflow.python.keras.models import Sequential\n",
        "from tensorflow.python.keras.layers import Activation, Dense, Dropout, Embedding, Flatten, Conv1D, MaxPooling1D, LSTM\n",
        "from tensorflow.python.keras import utils\n",
        "from tensorflow.python.keras.callbacks import ReduceLROnPlateau, EarlyStopping\n",
        "\n",
        "# nltk\n",
        "import nltk\n",
        "from nltk.corpus import stopwords\n",
        "from  nltk.stem import SnowballStemmer\n",
        "\n",
        "# Word2vec\n",
        "import gensim\n",
        "\n",
        "# Utility\n",
        "import re\n",
        "import numpy as np\n",
        "import os\n",
        "from collections import Counter\n",
        "import logging\n",
        "import time\n",
        "import pickle\n",
        "import itertools\n",
        "\n"
      ],
      "execution_count": 0,
      "outputs": []
    },
    {
      "cell_type": "markdown",
      "metadata": {
        "id": "hXg42285V8eO",
        "colab_type": "text"
      },
      "source": [
        "### OPTION 1: FROM DRIVE\n",
        "####Drive Mount"
      ]
    },
    {
      "cell_type": "code",
      "metadata": {
        "id": "HolNNQ2RarsH",
        "colab_type": "code",
        "colab": {}
      },
      "source": [
        "#Mounting the drive\n",
        "from google.colab import drive\n",
        "drive.mount('/content/drive')"
      ],
      "execution_count": 0,
      "outputs": []
    },
    {
      "cell_type": "markdown",
      "metadata": {
        "id": "9Pm2tId4u92n",
        "colab_type": "text"
      },
      "source": [
        "### Loading the train dataset and the test dataset"
      ]
    },
    {
      "cell_type": "code",
      "metadata": {
        "id": "juhB_Y5Yav-P",
        "colab_type": "code",
        "colab": {}
      },
      "source": [
        "train = pd.read_csv('/content/drive/My Drive/Twitter_Sentiment_Analysis/train.csv')\n",
        "test = pd.read_csv('/content/drive/My Drive/Twitter_Sentiment_Analysis/test.csv')"
      ],
      "execution_count": 0,
      "outputs": []
    },
    {
      "cell_type": "markdown",
      "metadata": {
        "id": "cx_NkgDIjek7",
        "colab_type": "text"
      },
      "source": [
        "### OPTION 2: From local directory"
      ]
    },
    {
      "cell_type": "code",
      "metadata": {
        "id": "GQbzKz74jkBF",
        "colab_type": "code",
        "colab": {}
      },
      "source": [
        "train = pd.read_csv('train.csv')\n",
        "test = pd.read_csv('test.csv')"
      ],
      "execution_count": 0,
      "outputs": []
    },
    {
      "cell_type": "markdown",
      "metadata": {
        "id": "iljHmFNuvMlX",
        "colab_type": "text"
      },
      "source": [
        "### Examining the dataset"
      ]
    },
    {
      "cell_type": "code",
      "metadata": {
        "id": "0_KqS2of9OIE",
        "colab_type": "code",
        "colab": {}
      },
      "source": [
        "train.head()"
      ],
      "execution_count": 0,
      "outputs": []
    },
    {
      "cell_type": "code",
      "metadata": {
        "id": "kE4oWKFGu6NN",
        "colab_type": "code",
        "colab": {}
      },
      "source": [
        "test.head()"
      ],
      "execution_count": 0,
      "outputs": []
    },
    {
      "cell_type": "markdown",
      "metadata": {
        "id": "wZ3S2Y_VvSG5",
        "colab_type": "text"
      },
      "source": [
        "There exists non uniform length text in train and test dataset and there exists 3 categories of sentiments positive, negative and neutral"
      ]
    },
    {
      "cell_type": "code",
      "metadata": {
        "id": "j-js-Ozj0-Wu",
        "colab_type": "code",
        "colab": {}
      },
      "source": [
        "#Getting stopwords from nltk library\n",
        "nltk.download('stopwords')\n"
      ],
      "execution_count": 0,
      "outputs": []
    },
    {
      "cell_type": "markdown",
      "metadata": {
        "id": "2OkAPdwPWFwU",
        "colab_type": "text"
      },
      "source": [
        "#### VARIABLE INITIALISATIONS\n"
      ]
    },
    {
      "cell_type": "code",
      "metadata": {
        "id": "5OosAKjc9Lt0",
        "colab_type": "code",
        "colab": {}
      },
      "source": [
        "# Data Processing\n",
        "DATASET_COLUMNS = [\"sentiment\", \"textID\", \"text\", \"selected_text\"]\n",
        "TRAIN_SIZE = 0.8\n",
        "\n",
        "# TEXT CLEANING REGEX INFORMATION\n",
        "TEXT_CLEANING_RE = \"@\\S+|https?:\\S+|http?:\\S|[^A-Za-z0-9]+\"\n",
        "\n",
        "# WORD2VEC parameters\n",
        "W2V_SIZE = 300\n",
        "W2V_WINDOW = 7\n",
        "W2V_EPOCH = 32\n",
        "W2V_MIN_COUNT = 10\n",
        "\n",
        "# Keras Layers\n",
        "SEQUENCE_LENGTH = 300\n",
        "BATCH_SIZE = 1024\n",
        "\n",
        "# Sentiment\n",
        "POSITIVE = \"positive\"\n",
        "NEGATIVE = \"negative\"\n",
        "NEUTRAL = \"neutral\"\n",
        "SENTIMENT_THRESHOLDS = (0.4, 0.7)\n",
        "\n"
      ],
      "execution_count": 0,
      "outputs": []
    },
    {
      "cell_type": "markdown",
      "metadata": {
        "id": "NtWtdpphWZ8f",
        "colab_type": "text"
      },
      "source": [
        "#### Class Balance visualisation in target attribute"
      ]
    },
    {
      "cell_type": "code",
      "metadata": {
        "id": "IMs5Util9ovq",
        "colab_type": "code",
        "colab": {}
      },
      "source": [
        "sentiment_cnt = Counter(train.sentiment)\n",
        "plt.figure(figsize=(16,8))\n",
        "plt.bar(sentiment_cnt.keys(), sentiment_cnt.values())\n",
        "plt.title(\"Dataset labels distribuition\")\n"
      ],
      "execution_count": 0,
      "outputs": []
    },
    {
      "cell_type": "code",
      "metadata": {
        "id": "7IJxkgS9-DRh",
        "colab_type": "code",
        "colab": {}
      },
      "source": [
        "#Intializing stopwords and getting snowball stemmer before vectorization\n",
        "stop_words = stopwords.words(\"english\")\n",
        "stemmer = SnowballStemmer(\"english\")\n"
      ],
      "execution_count": 0,
      "outputs": []
    },
    {
      "cell_type": "markdown",
      "metadata": {
        "id": "Qtga_g42WmTR",
        "colab_type": "text"
      },
      "source": [
        "#### Function to preprocess and clean text attribute of train data"
      ]
    },
    {
      "cell_type": "code",
      "metadata": {
        "id": "aTiPvRzM-IAv",
        "colab_type": "code",
        "colab": {}
      },
      "source": [
        "def preprocess(text, stem=False):\n",
        "    # Remove link,user and special characters\n",
        "    text = re.sub(TEXT_CLEANING_RE, ' ', str(text).lower()).strip()\n",
        "    tokens = []\n",
        "    for token in text.split():\n",
        "        if token not in stop_words:\n",
        "            if stem:\n",
        "                tokens.append(stemmer.stem(token))\n",
        "            else:\n",
        "                tokens.append(token)\n",
        "    return \" \".join(tokens)\n"
      ],
      "execution_count": 0,
      "outputs": []
    },
    {
      "cell_type": "markdown",
      "metadata": {
        "id": "HyM0lCrgWxEN",
        "colab_type": "text"
      },
      "source": [
        "#### Function call to preprocess test and train dataset"
      ]
    },
    {
      "cell_type": "code",
      "metadata": {
        "id": "gAg8gzGh-Ugq",
        "colab_type": "code",
        "colab": {}
      },
      "source": [
        "train.text = train.text.apply(lambda x: preprocess(x))\n",
        "test.text = test.text.apply(lambda x: preprocess(x))"
      ],
      "execution_count": 0,
      "outputs": []
    },
    {
      "cell_type": "code",
      "metadata": {
        "id": "_1c7DlGM-kqq",
        "colab_type": "code",
        "colab": {}
      },
      "source": [
        "df_train, df_test = train_test_split(train, test_size=1-TRAIN_SIZE, random_state=42, stratify=train.sentiment)\n",
        "print(\"TRAIN size:\", len(df_train))\n",
        "print(\"TEST size:\", len(df_test))\n"
      ],
      "execution_count": 0,
      "outputs": []
    },
    {
      "cell_type": "code",
      "metadata": {
        "id": "CFOggNJT-zNh",
        "colab_type": "code",
        "colab": {}
      },
      "source": [
        "documents = [_text.split() for _text in df_train.text] \n"
      ],
      "execution_count": 0,
      "outputs": []
    },
    {
      "cell_type": "code",
      "metadata": {
        "id": "nBfPKKFM-4hf",
        "colab_type": "code",
        "colab": {}
      },
      "source": [
        "w2v_model = gensim.models.word2vec.Word2Vec(size=W2V_SIZE, \n",
        "                                            window=W2V_WINDOW, \n",
        "                                            min_count=W2V_MIN_COUNT, \n",
        "                                            workers=8)"
      ],
      "execution_count": 0,
      "outputs": []
    },
    {
      "cell_type": "code",
      "metadata": {
        "id": "ToxS6E0X-993",
        "colab_type": "code",
        "colab": {}
      },
      "source": [
        "w2v_model.build_vocab(documents)\n"
      ],
      "execution_count": 0,
      "outputs": []
    },
    {
      "cell_type": "code",
      "metadata": {
        "id": "DzVkpZWw1BI2",
        "colab_type": "code",
        "colab": {}
      },
      "source": [
        "words = w2v_model.wv.vocab.keys()\n",
        "vocab_size = len(words)\n",
        "print(\"Vocab size\", vocab_size)\n"
      ],
      "execution_count": 0,
      "outputs": []
    },
    {
      "cell_type": "code",
      "metadata": {
        "id": "_jXfwYgM_Hcp",
        "colab_type": "code",
        "colab": {}
      },
      "source": [
        "w2v_model.train(documents, total_examples=len(documents), epochs=W2V_EPOCH)\n"
      ],
      "execution_count": 0,
      "outputs": []
    },
    {
      "cell_type": "code",
      "metadata": {
        "id": "D8IKZBQ6dn-B",
        "colab_type": "code",
        "colab": {}
      },
      "source": [
        "w2v_model.most_similar(\"love\")\n"
      ],
      "execution_count": 0,
      "outputs": []
    },
    {
      "cell_type": "code",
      "metadata": {
        "id": "0QNVzmeudiKp",
        "colab_type": "code",
        "colab": {}
      },
      "source": [
        "tokenizer = Tokenizer()\n",
        "tokenizer.fit_on_texts(df_train.text)\n",
        "\n",
        "vocab_size = len(tokenizer.word_index) + 1\n",
        "print(\"Total words\", vocab_size)\n"
      ],
      "execution_count": 0,
      "outputs": []
    },
    {
      "cell_type": "code",
      "metadata": {
        "id": "FPNP-yBA_sqP",
        "colab_type": "code",
        "colab": {}
      },
      "source": [
        "x_train = pad_sequences(tokenizer.texts_to_sequences(df_train.text), maxlen=SEQUENCE_LENGTH)\n",
        "x_test = pad_sequences(tokenizer.texts_to_sequences(df_test.text), maxlen=SEQUENCE_LENGTH)\n"
      ],
      "execution_count": 0,
      "outputs": []
    },
    {
      "cell_type": "code",
      "metadata": {
        "id": "8xPovTZY_yrM",
        "colab_type": "code",
        "colab": {}
      },
      "source": [
        "labels = df_train.sentiment.unique().tolist()\n",
        "labels"
      ],
      "execution_count": 0,
      "outputs": []
    },
    {
      "cell_type": "code",
      "metadata": {
        "id": "6dgbxADU_6u4",
        "colab_type": "code",
        "colab": {}
      },
      "source": [
        "encoder = LabelEncoder()\n",
        "encoder.fit(['negative','neutral','positive'])\n",
        "\n",
        "y_train = encoder.transform(df_train.sentiment.tolist())\n",
        "y_test = encoder.transform(df_test.sentiment.tolist())\n",
        "\n",
        "y_train = y_train.reshape(-1,1)\n",
        "y_test = y_test.reshape(-1,1)\n",
        "\n",
        "print(\"y_train\",y_train.shape)\n",
        "print(\"y_test\",y_test.shape)\n"
      ],
      "execution_count": 0,
      "outputs": []
    },
    {
      "cell_type": "code",
      "metadata": {
        "id": "HEpmU7boAGvR",
        "colab_type": "code",
        "colab": {}
      },
      "source": [
        "print(\"x_train\", x_train.shape)\n",
        "print(\"y_train\", y_train.shape)\n",
        "print()\n",
        "print(\"x_test\", x_test.shape)\n",
        "print(\"y_test\", y_test.shape)\n"
      ],
      "execution_count": 0,
      "outputs": []
    },
    {
      "cell_type": "code",
      "metadata": {
        "id": "v2XC79AlAJ_2",
        "colab_type": "code",
        "colab": {}
      },
      "source": [
        "y_train[:10]\n"
      ],
      "execution_count": 0,
      "outputs": []
    },
    {
      "cell_type": "code",
      "metadata": {
        "id": "k2CC5z3mAceA",
        "colab_type": "code",
        "colab": {}
      },
      "source": [
        "embedding_matrix = np.zeros((vocab_size, W2V_SIZE))\n",
        "for word, i in tokenizer.word_index.items():\n",
        "  if word in w2v_model.wv:\n",
        "    embedding_matrix[i] = w2v_model.wv[word]\n",
        "print(embedding_matrix.shape)\n"
      ],
      "execution_count": 0,
      "outputs": []
    },
    {
      "cell_type": "code",
      "metadata": {
        "id": "RFULc9rvW6rm",
        "colab_type": "code",
        "colab": {}
      },
      "source": [
        "embedding_matrix"
      ],
      "execution_count": 0,
      "outputs": []
    },
    {
      "cell_type": "code",
      "metadata": {
        "id": "px5ymWzKAgcP",
        "colab_type": "code",
        "colab": {}
      },
      "source": [
        "embedding_layer = Embedding(vocab_size, W2V_SIZE, weights=[embedding_matrix], input_length=SEQUENCE_LENGTH, trainable=False)\n"
      ],
      "execution_count": 0,
      "outputs": []
    },
    {
      "cell_type": "code",
      "metadata": {
        "id": "usjZavabDNvV",
        "colab_type": "code",
        "colab": {}
      },
      "source": [
        "def decode_sentiment(score, include_neutral=True):\n",
        "    if include_neutral:        \n",
        "        label = NEUTRAL\n",
        "        if score <= SENTIMENT_THRESHOLDS[0]:\n",
        "            label = NEGATIVE\n",
        "        elif score >= SENTIMENT_THRESHOLDS[1]:\n",
        "            label = POSITIVE\n",
        "        \n",
        "        return label\n",
        "    else:\n",
        "        return NEGATIVE if score < 0.5 else POSITIVE\n"
      ],
      "execution_count": 0,
      "outputs": []
    },
    {
      "cell_type": "code",
      "metadata": {
        "id": "Dbdc1AZIEGFs",
        "colab_type": "code",
        "colab": {}
      },
      "source": [
        "def plot_confusion_matrix(cm, classes,\n",
        "                          title='Confusion matrix',\n",
        "                          cmap=plt.cm.Blues):\n",
        "    \"\"\"\n",
        "    This function prints and plots the confusion matrix.\n",
        "    Normalization can be applied by setting `normalize=True`.\n",
        "    \"\"\"\n",
        "\n",
        "    cm = cm.astype('float') / cm.sum(axis=1)[:, np.newaxis]\n",
        "\n",
        "    plt.imshow(cm, interpolation='nearest', cmap=cmap)\n",
        "    plt.title(title, fontsize=30)\n",
        "    plt.colorbar()\n",
        "    tick_marks = np.arange(len(classes))\n",
        "    plt.xticks(tick_marks, classes, rotation=90, fontsize=22)\n",
        "    plt.yticks(tick_marks, classes, fontsize=22)\n",
        "\n",
        "    fmt = '.2f'\n",
        "    thresh = cm.max() / 2.\n",
        "    for i, j in itertools.product(range(cm.shape[0]), range(cm.shape[1])):\n",
        "        plt.text(j, i, format(cm[i, j], fmt),\n",
        "                 horizontalalignment=\"center\",\n",
        "                 color=\"white\" if cm[i, j] > thresh else \"black\")\n",
        "\n",
        "    plt.ylabel('True label', fontsize=25)\n",
        "    plt.xlabel('Predicted label', fontsize=25)\n"
      ],
      "execution_count": 0,
      "outputs": []
    },
    {
      "cell_type": "code",
      "metadata": {
        "id": "0Vn-YRJeDrO9",
        "colab_type": "code",
        "colab": {}
      },
      "source": [
        "def predict(text, include_neutral=True):\n",
        "    start_at = time.time()\n",
        "    # Tokenize text\n",
        "    x_test = pad_sequences(tokenizer.texts_to_sequences([text]), maxlen=SEQUENCE_LENGTH)\n",
        "    # Predict\n",
        "    score = model.predict([x_test])[0]\n",
        "    # Decode sentiment\n",
        "    label = decode_sentiment(score, include_neutral=include_neutral)\n",
        "\n",
        "    return {\"label\": label, \"score\": float(score),\n",
        "       \"elapsed_time\": time.time()-start_at}  \n"
      ],
      "execution_count": 0,
      "outputs": []
    },
    {
      "cell_type": "code",
      "metadata": {
        "id": "OGww4D80Ba8p",
        "colab_type": "code",
        "colab": {}
      },
      "source": [
        "def model_on_data(more_layer, output,activation, loss,  epoches, optimizer, initializer,lstmactivation):\n",
        "      model = Sequential()\n",
        "      model.add(embedding_layer)\n",
        "      model.add(Dropout(0.5))\n",
        "      \n",
        "      if more_layer==False:\n",
        "\n",
        "        model.add(LSTM(100, dropout=0.2, recurrent_dropout=0.2,recurrent_initializer=initializer, activation=lstmactivation))\n",
        "      else: \n",
        "        # model.add(LSTM(100, dropout=0.2, recurrent_dropout=0.2,recurrent_initializer=initializer, activation=lstmactivation,return_sequences=True))\n",
        "\n",
        "        model.add(LSTM(100, return_sequences=True,recurrent_initializer=initializer, activation=lstmactivation))  # returns a sequence of vectors of dimension 32\n",
        "        # model.add(LSTM(100))\n",
        "\n",
        "      model.add(Dense(output, activation=activation))\n",
        "\n",
        "      print(model.summary())\n",
        "      model.compile(loss=loss,\n",
        "                    optimizer=optimizer,\n",
        "                    metrics=['accuracy'])\n",
        "      callbacks = [ ReduceLROnPlateau(monitor='val_loss', patience=5, cooldown=0),\n",
        "                    EarlyStopping(monitor='val_acc', min_delta=1e-4, patience=5)]\n",
        "      history = model.fit(x_train, y_train,\n",
        "                          batch_size=BATCH_SIZE,\n",
        "                          epochs=epoches,\n",
        "                          validation_split=0.1,\n",
        "                          verbose=1,\n",
        "                          callbacks=callbacks)\n",
        "      print(history)\n",
        "      score = model.evaluate(x_test, y_test, batch_size=BATCH_SIZE)\n",
        "      print()\n",
        "      print(\"ACCURACY:\",score[1])\n",
        "      print(\"LOSS:\",score[0])\n",
        "      acc = history.history['accuracy']\n",
        "      val_acc = history.history['val_accuracy']\n",
        "      loss = history.history['loss']\n",
        "      val_loss = history.history['val_loss']\n",
        "      \n",
        "      epochs = range(len(acc))\n",
        "      \n",
        "      plt.plot(epochs, acc, 'b', label='Training acc')\n",
        "      plt.plot(epochs, val_acc, 'r', label='Validation acc')\n",
        "      plt.title('Training and validation accuracy')\n",
        "      plt.legend()\n",
        "      \n",
        "      plt.figure()\n",
        "      \n",
        "      plt.plot(epochs, loss, 'b', label='Training loss')\n",
        "      plt.plot(epochs, val_loss, 'r', label='Validation loss')\n",
        "      plt.title('Training and validation loss')\n",
        "      plt.legend()\n",
        "      \n",
        "      plt.show()\n",
        "\n",
        "      y_pred_1d = []\n",
        "      y_test_1d = list(df_test.sentiment)\n",
        "      scores = model.predict(x_test, verbose=1, batch_size=8000)\n",
        "      y_pred_1d = [decode_sentiment(score, include_neutral=False) for score in scores]\n",
        "\n",
        "      cnf_matrix = confusion_matrix(y_test_1d, y_pred_1d)\n",
        "      plt.figure(figsize=(12,12))\n",
        "      plot_confusion_matrix(cnf_matrix, classes=df_train.sentiment.unique(), title=\"Confusion matrix\")\n",
        "      plt.show()\n",
        "\n",
        "      print(classification_report(y_test_1d, y_pred_1d))\n",
        "      print(accuracy_score(y_test_1d, y_pred_1d))\n",
        "\n"
      ],
      "execution_count": 0,
      "outputs": []
    },
    {
      "cell_type": "code",
      "metadata": {
        "id": "jldQWeIGYOkK",
        "colab_type": "code",
        "colab": {}
      },
      "source": [
        "# more_layer=[True,False]\n",
        "# output=[1,3]\n",
        "# activation=[ 'softmax', 'sigmoid']\n",
        "# loss= ['binary_crossentropy', 'categorical_crossentropy']\n",
        "# epoches=[20, 50, 100]\n",
        "# optimizer=['adam', 'sgd+momentum']\n",
        "# initializer[he, xavier]\n"
      ],
      "execution_count": 0,
      "outputs": []
    },
    {
      "cell_type": "code",
      "metadata": {
        "id": "5cs-QAzsBhd6",
        "colab_type": "code",
        "colab": {}
      },
      "source": [
        "model_on_data(more_layer=False, output=1,activation='sigmoid', loss='binary_crossentropy',  epoches=10, optimizer='adam', initializer='he_normal',lstmactivation='tanh' )\n"
      ],
      "execution_count": 0,
      "outputs": []
    },
    {
      "cell_type": "code",
      "metadata": {
        "id": "jChAdHSXf248",
        "colab_type": "code",
        "outputId": "925afde6-f48c-4527-8e01-ea2747316d60",
        "colab": {
          "base_uri": "https://localhost:8080/",
          "height": 1000
        }
      },
      "source": [
        "SENTIMENT_THRESHOLDS = (0.2, 0.5)\n",
        "model_on_data(more_layer=False, output=1,activation='sigmoid', loss='binary_crossentropy',  epoches=10, optimizer='adam', initializer='he_normal',lstmactivation='tanh' )\n"
      ],
      "execution_count": 0,
      "outputs": [
        {
          "output_type": "stream",
          "text": [
            "WARNING:tensorflow:Layer lstm_6 will not use cuDNN kernel since it doesn't meet the cuDNN kernel criteria. It will use generic GPU kernel as fallback when running on GPU\n",
            "Model: \"sequential_6\"\n",
            "_________________________________________________________________\n",
            "Layer (type)                 Output Shape              Param #   \n",
            "=================================================================\n",
            "embedding_2 (Embedding)      (None, 300, 300)          6403500   \n",
            "_________________________________________________________________\n",
            "dropout_6 (Dropout)          (None, 300, 300)          0         \n",
            "_________________________________________________________________\n",
            "lstm_6 (LSTM)                (None, 100)               160400    \n",
            "_________________________________________________________________\n",
            "dense_6 (Dense)              (None, 1)                 101       \n",
            "=================================================================\n",
            "Total params: 6,564,001\n",
            "Trainable params: 160,501\n",
            "Non-trainable params: 6,403,500\n",
            "_________________________________________________________________\n",
            "None\n",
            "Epoch 1/10\n",
            "20/20 [==============================] - ETA: 0s - loss: 0.1019 - accuracy: 0.3997WARNING:tensorflow:Early stopping conditioned on metric `val_acc` which is not available. Available metrics are: loss,accuracy,val_loss,val_accuracy,lr\n",
            "20/20 [==============================] - 22s 1s/step - loss: 0.1019 - accuracy: 0.3997 - val_loss: -0.3384 - val_accuracy: 0.4020 - lr: 0.0010\n",
            "Epoch 2/10\n",
            "20/20 [==============================] - ETA: 0s - loss: -0.5327 - accuracy: 0.4091WARNING:tensorflow:Early stopping conditioned on metric `val_acc` which is not available. Available metrics are: loss,accuracy,val_loss,val_accuracy,lr\n",
            "20/20 [==============================] - 23s 1s/step - loss: -0.5327 - accuracy: 0.4091 - val_loss: -0.9544 - val_accuracy: 0.4125 - lr: 0.0010\n",
            "Epoch 3/10\n",
            "20/20 [==============================] - ETA: 0s - loss: -1.2185 - accuracy: 0.4335WARNING:tensorflow:Early stopping conditioned on metric `val_acc` which is not available. Available metrics are: loss,accuracy,val_loss,val_accuracy,lr\n",
            "20/20 [==============================] - 22s 1s/step - loss: -1.2185 - accuracy: 0.4335 - val_loss: -1.8443 - val_accuracy: 0.4443 - lr: 0.0010\n",
            "Epoch 4/10\n",
            "20/20 [==============================] - ETA: 0s - loss: -2.1250 - accuracy: 0.4506WARNING:tensorflow:Early stopping conditioned on metric `val_acc` which is not available. Available metrics are: loss,accuracy,val_loss,val_accuracy,lr\n",
            "20/20 [==============================] - 23s 1s/step - loss: -2.1250 - accuracy: 0.4506 - val_loss: -2.6782 - val_accuracy: 0.4566 - lr: 0.0010\n",
            "Epoch 5/10\n",
            "20/20 [==============================] - ETA: 0s - loss: -2.9323 - accuracy: 0.4576WARNING:tensorflow:Early stopping conditioned on metric `val_acc` which is not available. Available metrics are: loss,accuracy,val_loss,val_accuracy,lr\n",
            "20/20 [==============================] - 22s 1s/step - loss: -2.9323 - accuracy: 0.4576 - val_loss: -3.4133 - val_accuracy: 0.4670 - lr: 0.0010\n",
            "Epoch 6/10\n",
            "20/20 [==============================] - ETA: 0s - loss: -3.6129 - accuracy: 0.4649WARNING:tensorflow:Early stopping conditioned on metric `val_acc` which is not available. Available metrics are: loss,accuracy,val_loss,val_accuracy,lr\n",
            "20/20 [==============================] - 22s 1s/step - loss: -3.6129 - accuracy: 0.4649 - val_loss: -4.0914 - val_accuracy: 0.4725 - lr: 0.0010\n",
            "Epoch 7/10\n",
            "20/20 [==============================] - ETA: 0s - loss: -4.3219 - accuracy: 0.4677WARNING:tensorflow:Early stopping conditioned on metric `val_acc` which is not available. Available metrics are: loss,accuracy,val_loss,val_accuracy,lr\n",
            "20/20 [==============================] - 22s 1s/step - loss: -4.3219 - accuracy: 0.4677 - val_loss: -4.7728 - val_accuracy: 0.4779 - lr: 0.0010\n",
            "Epoch 8/10\n",
            "20/20 [==============================] - ETA: 0s - loss: -4.8692 - accuracy: 0.4702WARNING:tensorflow:Early stopping conditioned on metric `val_acc` which is not available. Available metrics are: loss,accuracy,val_loss,val_accuracy,lr\n",
            "20/20 [==============================] - 22s 1s/step - loss: -4.8692 - accuracy: 0.4702 - val_loss: -5.3419 - val_accuracy: 0.4825 - lr: 0.0010\n",
            "Epoch 9/10\n",
            "20/20 [==============================] - ETA: 0s - loss: -5.4436 - accuracy: 0.4753WARNING:tensorflow:Early stopping conditioned on metric `val_acc` which is not available. Available metrics are: loss,accuracy,val_loss,val_accuracy,lr\n",
            "20/20 [==============================] - 22s 1s/step - loss: -5.4436 - accuracy: 0.4753 - val_loss: -5.9310 - val_accuracy: 0.4798 - lr: 0.0010\n",
            "Epoch 10/10\n",
            "20/20 [==============================] - ETA: 0s - loss: -6.0120 - accuracy: 0.4749WARNING:tensorflow:Early stopping conditioned on metric `val_acc` which is not available. Available metrics are: loss,accuracy,val_loss,val_accuracy,lr\n",
            "20/20 [==============================] - 22s 1s/step - loss: -6.0120 - accuracy: 0.4749 - val_loss: -6.3978 - val_accuracy: 0.4843 - lr: 0.0010\n",
            "<tensorflow.python.keras.callbacks.History object at 0x7feadc59ebe0>\n",
            "6/6 [==============================] - 1s 158ms/step - loss: -6.6564 - accuracy: 0.4800\n",
            "\n",
            "ACCURACY: 0.47999271750450134\n",
            "LOSS: -6.656443119049072\n"
          ],
          "name": "stdout"
        },
        {
          "output_type": "display_data",
          "data": {
            "image/png": "[encoded data removed]",
            "text/plain": [
              "<Figure size 432x288 with 1 Axes>"
            ]
          },
          "metadata": {
            "tags": [],
            "needs_background": "light"
          }
        },
        {
          "output_type": "display_data",
          "data": {
            "image/png": "[encoded data removed]",
            "text/plain": [
              "<Figure size 432x288 with 1 Axes>"
            ]
          },
          "metadata": {
            "tags": [],
            "needs_background": "light"
          }
        },
        {
          "output_type": "stream",
          "text": [
            "1/1 [==============================] - 0s 989us/step\n"
          ],
          "name": "stdout"
        },
        {
          "output_type": "display_data",
          "data": {
            "image/png": "[encoded data removed]",
            "text/plain": [
              "<Figure size 864x864 with 2 Axes>"
            ]
          },
          "metadata": {
            "tags": [],
            "needs_background": "light"
          }
        },
        {
          "output_type": "stream",
          "text": [
            "              precision    recall  f1-score   support\n",
            "\n",
            "    negative       0.76      0.36      0.49      1557\n",
            "     neutral       0.00      0.00      0.00      2224\n",
            "    positive       0.35      0.98      0.52      1717\n",
            "\n",
            "    accuracy                           0.41      5498\n",
            "   macro avg       0.37      0.45      0.34      5498\n",
            "weighted avg       0.33      0.41      0.30      5498\n",
            "\n",
            "0.40942160785740267\n"
          ],
          "name": "stdout"
        },
        {
          "output_type": "stream",
          "text": [
            "/usr/local/lib/python3.6/dist-packages/sklearn/metrics/_classification.py:1272: UndefinedMetricWarning: Precision and F-score are ill-defined and being set to 0.0 in labels with no predicted samples. Use `zero_division` parameter to control this behavior.\n",
            "  _warn_prf(average, modifier, msg_start, len(result))\n"
          ],
          "name": "stderr"
        }
      ]
    },
    {
      "cell_type": "markdown",
      "metadata": {
        "id": "IOaWe_kyOm9l",
        "colab_type": "text"
      },
      "source": [
        "## HYPERPARAMETER TUNING"
      ]
    },
    {
      "cell_type": "markdown",
      "metadata": {
        "id": "G9DwT8n1PC96",
        "colab_type": "text"
      },
      "source": [
        "### Changing Activation Function"
      ]
    },
    {
      "cell_type": "markdown",
      "metadata": {
        "id": "liUiwdUEO5HA",
        "colab_type": "text"
      },
      "source": [
        "#### LSTM activation relu"
      ]
    },
    {
      "cell_type": "code",
      "metadata": {
        "id": "iPNm5lpjEWyK",
        "colab_type": "code",
        "colab": {}
      },
      "source": [
        "SENTIMENT_THRESHOLDS = (0.4, 0.7)\n",
        "\n",
        "model_on_data(more_layer=False, output=1,activation='sigmoid', loss='binary_crossentropy',  epoches=10, optimizer='adam', initializer='he_normal',lstmactivation='relu' )\n"
      ],
      "execution_count": 0,
      "outputs": []
    },
    {
      "cell_type": "markdown",
      "metadata": {
        "id": "zH46A-zSPWCm",
        "colab_type": "text"
      },
      "source": [
        "#### LSTM activation selu"
      ]
    },
    {
      "cell_type": "code",
      "metadata": {
        "id": "zC2QowzJEaWt",
        "colab_type": "code",
        "colab": {}
      },
      "source": [
        "model_on_data(more_layer=False, output=1,activation='sigmoid', loss='binary_crossentropy',  epoches=10, optimizer='adam', initializer='he_normal',lstmactivation='selu' )\n"
      ],
      "execution_count": 0,
      "outputs": []
    },
    {
      "cell_type": "markdown",
      "metadata": {
        "id": "FJzVdeXAPu54",
        "colab_type": "text"
      },
      "source": [
        "bold text### Cost Function"
      ]
    },
    {
      "cell_type": "markdown",
      "metadata": {
        "id": "AKNPJeAAP0CZ",
        "colab_type": "text"
      },
      "source": [
        "#### Loss : Hinge loss"
      ]
    },
    {
      "cell_type": "code",
      "metadata": {
        "id": "jJqx2pxKQTRQ",
        "colab_type": "code",
        "colab": {}
      },
      "source": [
        "model_on_data(more_layer=False, output=1,activation='sigmoid', loss='hinge',  epoches=10, optimizer='adam', initializer='he_normal',lstmactivation='tanh' )\n"
      ],
      "execution_count": 0,
      "outputs": []
    },
    {
      "cell_type": "markdown",
      "metadata": {
        "id": "rM_T4R71P_GC",
        "colab_type": "text"
      },
      "source": [
        "#### Loss: Huber Loss"
      ]
    },
    {
      "cell_type": "code",
      "metadata": {
        "id": "nCTujuidQn5m",
        "colab_type": "code",
        "colab": {}
      },
      "source": [
        "model_on_data(more_layer=False, output=1,activation='sigmoid', loss='huber_loss',  epoches=10, optimizer='adam', initializer='he_normal',lstmactivation='tanh' )\n"
      ],
      "execution_count": 0,
      "outputs": []
    },
    {
      "cell_type": "markdown",
      "metadata": {
        "id": "P6YneDGOQuty",
        "colab_type": "text"
      },
      "source": [
        "### EPOCHES"
      ]
    },
    {
      "cell_type": "markdown",
      "metadata": {
        "id": "J8ansGiAQzFs",
        "colab_type": "text"
      },
      "source": [
        "#### Epoches=20"
      ]
    },
    {
      "cell_type": "code",
      "metadata": {
        "id": "LiLjk0bqQ17u",
        "colab_type": "code",
        "colab": {}
      },
      "source": [
        "model_on_data(more_layer=False, output=1,activation='sigmoid', loss='huber_loss',  epoches=20, optimizer='adam', initializer='he_normal',lstmactivation='tanh' )\n"
      ],
      "execution_count": 0,
      "outputs": []
    },
    {
      "cell_type": "markdown",
      "metadata": {
        "id": "RDuPjr11Q7aX",
        "colab_type": "text"
      },
      "source": [
        "#### Epoches= 8"
      ]
    },
    {
      "cell_type": "code",
      "metadata": {
        "id": "vEMmNaL1Q-RS",
        "colab_type": "code",
        "colab": {}
      },
      "source": [
        "model_on_data(more_layer=False, output=1,activation='sigmoid', loss='huber_loss',  epoches=8, optimizer='adam', initializer='he_normal',lstmactivation='tanh' )\n"
      ],
      "execution_count": 0,
      "outputs": []
    },
    {
      "cell_type": "markdown",
      "metadata": {
        "id": "sj6x6hTpQ-6-",
        "colab_type": "text"
      },
      "source": [
        "### Gradient Optimization Function"
      ]
    },
    {
      "cell_type": "markdown",
      "metadata": {
        "id": "616hA2u9RFXK",
        "colab_type": "text"
      },
      "source": [
        "#### SGD"
      ]
    },
    {
      "cell_type": "code",
      "metadata": {
        "id": "RtfBkJd0YlbU",
        "colab_type": "code",
        "colab": {}
      },
      "source": [
        "from keras import optimizers\n",
        "\n",
        "\n",
        "model_on_data(more_layer=False, output=1,activation='sigmoid', loss='huber_loss',  epoches=8, optimizer='sgd', initializer='he_normal',lstmactivation='tanh' )\n"
      ],
      "execution_count": 0,
      "outputs": []
    },
    {
      "cell_type": "markdown",
      "metadata": {
        "id": "m-4KYpreRMOe",
        "colab_type": "text"
      },
      "source": [
        "#### Adagrad"
      ]
    },
    {
      "cell_type": "code",
      "metadata": {
        "id": "qvH5itHOYpxO",
        "colab_type": "code",
        "colab": {}
      },
      "source": [
        "model_on_data(more_layer=False, output=1,activation='sigmoid', loss='huber_loss',  epoches=8, optimizer='adagrad', initializer='he_normal',lstmactivation='tanh' )\n"
      ],
      "execution_count": 0,
      "outputs": []
    },
    {
      "cell_type": "markdown",
      "metadata": {
        "id": "UeAoQG1lRPJs",
        "colab_type": "text"
      },
      "source": [
        "### Network Architecture"
      ]
    },
    {
      "cell_type": "markdown",
      "metadata": {
        "id": "_-UK7uZfRXSO",
        "colab_type": "text"
      },
      "source": [
        "#### With more layers"
      ]
    },
    {
      "cell_type": "code",
      "metadata": {
        "id": "idyH7cZne4KA",
        "colab_type": "code",
        "colab": {}
      },
      "source": [
        "model_on_data(more_layer=True, output=1,activation='sigmoid', loss='huber_loss',  epoches=8, optimizer='adam', initializer='he_normal',lstmactivation='tanh' )\n"
      ],
      "execution_count": 0,
      "outputs": []
    },
    {
      "cell_type": "code",
      "metadata": {
        "id": "jMhidtcO1pvF",
        "colab_type": "code",
        "colab": {}
      },
      "source": [
        "model_on_data(more_layer=True, output=1,activation='sigmoid', loss='huber_loss',  epoches=8, optimizer='adam', initializer='he_normal',lstmactivation='tanh' )\n"
      ],
      "execution_count": 0,
      "outputs": []
    },
    {
      "cell_type": "markdown",
      "metadata": {
        "id": "Ld54Yga_Ra9A",
        "colab_type": "text"
      },
      "source": [
        "### Weight Initialization"
      ]
    },
    {
      "cell_type": "markdown",
      "metadata": {
        "id": "mFl65D14Rfjp",
        "colab_type": "text"
      },
      "source": [
        "#### lecun_uniform"
      ]
    },
    {
      "cell_type": "code",
      "metadata": {
        "id": "YHzn0m4We-ZP",
        "colab_type": "code",
        "colab": {}
      },
      "source": [
        "model_on_data(more_layer=False, output=1,activation='sigmoid', loss='huber_loss',  epoches=8, optimizer='adam', initializer='lecun_uniform',lstmactivation='tanh' )\n"
      ],
      "execution_count": 0,
      "outputs": []
    },
    {
      "cell_type": "markdown",
      "metadata": {
        "id": "zo4f9FQDRo3L",
        "colab_type": "text"
      },
      "source": [
        "#### RandomUniform"
      ]
    },
    {
      "cell_type": "code",
      "metadata": {
        "id": "DeCx6YvNe_Q3",
        "colab_type": "code",
        "colab": {}
      },
      "source": [
        "model_on_data(more_layer=False, output=1,activation='sigmoid', loss='huber_loss',  epoches=8, optimizer='adam', initializer='random_uniform',lstmactivation='tanh' )\n"
      ],
      "execution_count": 0,
      "outputs": []
    },
    {
      "cell_type": "markdown",
      "metadata": {
        "id": "6wNGmFlkadzG",
        "colab_type": "text"
      },
      "source": [
        "### CONCLUSION\n",
        "Best accuracy was obtaines when more_layer=False, output=1,activation='sigmoid', loss='huber_loss',  epoches=20, optimizer='adam', initializer='he_normal',lstmactivation='tanh' => 50.5%\n",
        "\n",
        "However best choice is owing to the fact that precisions of all classes was decent  when more_layer=False, output=1,activation='sigmoid', loss='binary_crossentropy',  epoches=10, optimizer='adam', initializer='he_normal',lstmactivation='tanh' \n",
        "\n",
        "Further improvements in score can be implemented using pretrained state of art models like BERT, Distilbert, Albert etc or using GloVe language models and better text preprocessing, cross validation, data collection"
      ]
    },
    {
      "cell_type": "markdown",
      "metadata": {
        "id": "wZ9qHifNaAy_",
        "colab_type": "text"
      },
      "source": [
        "### CONTRIBUTION\n",
        "Self: External aid = 50:50\n",
        "The functions for hyperparameter tuning are done by self and the code has been adapted from various refernces with modifications for use case of the problem statement"
      ]
    },
    {
      "cell_type": "markdown",
      "metadata": {
        "id": "XEn-GZOyZBFu",
        "colab_type": "text"
      },
      "source": [
        "### REFERENCES"
      ]
    },
    {
      "cell_type": "markdown",
      "metadata": {
        "id": "7NZj8Ly3ZZFl",
        "colab_type": "text"
      },
      "source": [
        "\n",
        "\n",
        "1.   https://keras.io\n",
        "2.   https://www.kaggle.com/c/tweet-sentiment-extraction/overview\n",
        "3.   https://www.kaggle.com/harupy/op-scoring-kernels-tweet-sentiment-extraction\n",
        "4.   https://keras.io/getting-started/sequential-model-guide/\n",
        "5.   https://towardsdatascience.com/choosing-the-right-hyperparameters-for-a-simple-lstm-using-keras-f8e9ed76f046\n",
        "\n",
        "\n"
      ]
    },
    {
      "cell_type": "markdown",
      "metadata": {
        "id": "BSZrhrNqZE5X",
        "colab_type": "text"
      },
      "source": [
        "### License"
      ]
    },
    {
      "cell_type": "markdown",
      "metadata": {
        "id": "HentKgrpZJVa",
        "colab_type": "text"
      },
      "source": [
        "MIT License\n",
        "\n",
        "Copyright (c) 2020 Suprita Ganesh\n",
        "\n",
        "Permission is hereby granted, free of charge, to any person obtaining a copy\n",
        "of this software and associated documentation files (the \"Software\"), to deal\n",
        "in the Software without restriction, including without limitation the rights\n",
        "to use, copy, modify, merge, publish, distribute, sublicense, and/or sell\n",
        "copies of the Software, and to permit persons to whom the Software is\n",
        "furnished to do so, subject to the following conditions:\n",
        "\n",
        "The above copyright notice and this permission notice shall be included in all\n",
        "copies or substantial portions of the Software.\n",
        "\n",
        "THE SOFTWARE IS PROVIDED \"AS IS\", WITHOUT WARRANTY OF ANY KIND, EXPRESS OR\n",
        "IMPLIED, INCLUDING BUT NOT LIMITED TO THE WARRANTIES OF MERCHANTABILITY,\n",
        "FITNESS FOR A PARTICULAR PURPOSE AND NONINFRINGEMENT. IN NO EVENT SHALL THE\n",
        "AUTHORS OR COPYRIGHT HOLDERS BE LIABLE FOR ANY CLAIM, DAMAGES OR OTHER\n",
        "LIABILITY, WHETHER IN AN ACTION OF CONTRACT, TORT OR OTHERWISE, ARISING FROM,\n",
        "OUT OF OR IN CONNECTION WITH THE SOFTWARE OR THE USE OR OTHER DEALINGS IN THE\n",
        "SOFTWARE.\n"
      ]
    }
  ]
}